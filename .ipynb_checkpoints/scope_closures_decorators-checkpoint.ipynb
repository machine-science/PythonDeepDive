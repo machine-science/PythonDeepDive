{
 "cells": [
  {
   "cell_type": "markdown",
   "metadata": {},
   "source": [
    "---\n",
    "# Scopes and Namespaces\n",
    "---\n",
    "\n",
    "- When we assign a value or an object to a variable (a = 10, means we created this label 'a' that points at some memory address and contains value = 10)\n",
    "    - A portion of code where that name or biniding is defined is called the `Lexical scope` of the variable.\n",
    "    - These bindings are stored somewhere, that is called `Namespaces`,*We can consider namesapces as a table, that contains the label and the reference that is pointing to*\n",
    "    \n",
    "---\n",
    "## Global Scope\n",
    "---\n",
    "\n",
    "**Global scope is essentially the `module` scope, which spans a single file only**"
   ]
  },
  {
   "cell_type": "code",
   "execution_count": null,
   "metadata": {},
   "outputs": [],
   "source": []
  }
 ],
 "metadata": {
  "kernelspec": {
   "display_name": "Python 3",
   "language": "python",
   "name": "python3"
  },
  "language_info": {
   "codemirror_mode": {
    "name": "ipython",
    "version": 3
   },
   "file_extension": ".py",
   "mimetype": "text/x-python",
   "name": "python",
   "nbconvert_exporter": "python",
   "pygments_lexer": "ipython3",
   "version": "3.7.2"
  },
  "toc": {
   "base_numbering": 1,
   "nav_menu": {},
   "number_sections": true,
   "sideBar": true,
   "skip_h1_title": false,
   "title_cell": "Table of Contents",
   "title_sidebar": "Contents",
   "toc_cell": false,
   "toc_position": {},
   "toc_section_display": true,
   "toc_window_display": true
  }
 },
 "nbformat": 4,
 "nbformat_minor": 2
}
