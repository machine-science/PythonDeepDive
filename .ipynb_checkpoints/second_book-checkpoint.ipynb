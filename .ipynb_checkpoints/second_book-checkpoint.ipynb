{
 "cells": [
  {
   "cell_type": "code",
   "execution_count": 2,
   "metadata": {
    "ExecuteTime": {
     "end_time": "2020-02-08T13:18:55.580742Z",
     "start_time": "2020-02-08T13:18:55.574748Z"
    }
   },
   "outputs": [],
   "source": [
    "def calc_hi_lo_avg(*args, log_to_consol = False):\n",
    "    hi = int(bool(args)) and max(args)\n",
    "    if len(args) == 0:\n",
    "        lo = 0\n",
    "    else:\n",
    "        lo = min(args)\n",
    "    # Lo using ternary operator\n",
    "    #lo = min(args) if len(args) > 0 else 0\n",
    "    avg = (hi + lo)/2\n",
    "    if log_to_consol:\n",
    "        print(f\"high = {hi} \\nlo = {lo} \\navg = {avg}\")\n",
    "    return avg"
   ]
  },
  {
   "cell_type": "code",
   "execution_count": 3,
   "metadata": {
    "ExecuteTime": {
     "end_time": "2020-02-08T13:19:33.347387Z",
     "start_time": "2020-02-08T13:19:33.342392Z"
    }
   },
   "outputs": [],
   "source": [
    "avg = calc_hi_lo_avg(1,2,3,4,5)\n",
    "print(avg)"
   ]
  },
  {
   "cell_type": "code",
   "execution_count": 5,
   "metadata": {
    "ExecuteTime": {
     "end_time": "2020-02-08T13:20:49.808430Z",
     "start_time": "2020-02-08T13:20:49.801433Z"
    }
   },
   "outputs": [
    {
     "name": "stdout",
     "output_type": "stream",
     "text": [
      "high = 5 \n",
      "lo = 1 \n",
      "avg = 3.0\n",
      "3.0\n"
     ]
    }
   ],
   "source": [
    "is_debug = True\n",
    "\n",
    "avg = calc_hi_lo_avg(1,2,3,4,5, log_to_consol=is_debug)\n",
    "print(avg)"
   ]
  },
  {
   "cell_type": "markdown",
   "metadata": {},
   "source": [
    "# A function timer"
   ]
  },
  {
   "cell_type": "code",
   "execution_count": 6,
   "metadata": {
    "ExecuteTime": {
     "end_time": "2020-02-08T13:23:03.699197Z",
     "start_time": "2020-02-08T13:23:03.695198Z"
    }
   },
   "outputs": [],
   "source": [
    "import time"
   ]
  },
  {
   "cell_type": "code",
   "execution_count": 7,
   "metadata": {
    "ExecuteTime": {
     "end_time": "2020-02-08T13:27:35.611188Z",
     "start_time": "2020-02-08T13:27:35.606191Z"
    }
   },
   "outputs": [],
   "source": [
    "def timeIt(fn, *args, **kwargs):\n",
    "    print(args, kwargs)"
   ]
  },
  {
   "cell_type": "code",
   "execution_count": 8,
   "metadata": {
    "ExecuteTime": {
     "end_time": "2020-02-08T13:28:08.896795Z",
     "start_time": "2020-02-08T13:28:08.890799Z"
    }
   },
   "outputs": [
    {
     "name": "stdout",
     "output_type": "stream",
     "text": [
      "(1, 2, 3) {'sep': ' - ', 'end': ' ***'}\n"
     ]
    }
   ],
   "source": [
    "timeIt(print,1,2,3,sep=\" - \",end=\" ***\")"
   ]
  },
  {
   "cell_type": "markdown",
   "metadata": {},
   "source": [
    "## Now we need to print 1,2,3 with `-` as sapetator and print should end with ***"
   ]
  },
  {
   "cell_type": "code",
   "execution_count": 9,
   "metadata": {
    "ExecuteTime": {
     "end_time": "2020-02-08T13:29:49.493298Z",
     "start_time": "2020-02-08T13:29:49.489299Z"
    }
   },
   "outputs": [],
   "source": [
    "def timeIt(fn, *args, **kwargs):\n",
    "    fn(args, kwargs)"
   ]
  },
  {
   "cell_type": "code",
   "execution_count": 10,
   "metadata": {
    "ExecuteTime": {
     "end_time": "2020-02-08T13:30:17.349457Z",
     "start_time": "2020-02-08T13:30:17.344461Z"
    }
   },
   "outputs": [
    {
     "name": "stdout",
     "output_type": "stream",
     "text": [
      "(1, 2, 3) {'sep': ' - ', 'end': ' ***'}\n"
     ]
    }
   ],
   "source": [
    "timeIt(print,1,2,3, sep=\" - \",end=\" ***\")"
   ]
  },
  {
   "cell_type": "markdown",
   "metadata": {},
   "source": [
    "### we see that it still prints the same way as before\n",
    "- To print 1,2,3 with `-` as saperator we need to unpack the arguments "
   ]
  },
  {
   "cell_type": "code",
   "execution_count": 13,
   "metadata": {
    "ExecuteTime": {
     "end_time": "2020-02-08T13:32:24.861577Z",
     "start_time": "2020-02-08T13:32:24.856580Z"
    }
   },
   "outputs": [],
   "source": [
    "def timeIt(fn, *args, **kwargs):\n",
    "    fn(*args, **kwargs)"
   ]
  },
  {
   "cell_type": "code",
   "execution_count": 14,
   "metadata": {
    "ExecuteTime": {
     "end_time": "2020-02-08T13:32:25.559135Z",
     "start_time": "2020-02-08T13:32:25.554137Z"
    }
   },
   "outputs": [
    {
     "name": "stdout",
     "output_type": "stream",
     "text": [
      "1 - 2 - 3 ***"
     ]
    }
   ],
   "source": [
    "timeIt(print,1,2,3, sep=\" - \",end=\" ***\")"
   ]
  },
  {
   "cell_type": "markdown",
   "metadata": {},
   "source": [
    "# Do not use mutable default types as an argument "
   ]
  },
  {
   "cell_type": "code",
   "execution_count": 15,
   "metadata": {
    "ExecuteTime": {
     "end_time": "2020-02-08T14:51:32.343326Z",
     "start_time": "2020-02-08T14:51:32.338331Z"
    }
   },
   "outputs": [],
   "source": [
    "def add_item(name, quantity, shoppingList = []):\n",
    "    shoppingList.append(f\"({name}, {quantity})\")\n",
    "    return shoppingList"
   ]
  },
  {
   "cell_type": "code",
   "execution_count": 16,
   "metadata": {
    "ExecuteTime": {
     "end_time": "2020-02-08T14:52:39.322857Z",
     "start_time": "2020-02-08T14:52:39.315863Z"
    }
   },
   "outputs": [
    {
     "data": {
      "text/plain": [
       "['(banana, 3)', '(Mangoes, 5)']"
      ]
     },
     "execution_count": 16,
     "metadata": {},
     "output_type": "execute_result"
    }
   ],
   "source": [
    "shopList1 = add_item('banana',3)\n",
    "add_item('Mangoes',5,shopList1)"
   ]
  },
  {
   "cell_type": "code",
   "execution_count": 17,
   "metadata": {
    "ExecuteTime": {
     "end_time": "2020-02-08T14:53:40.049544Z",
     "start_time": "2020-02-08T14:53:40.042545Z"
    }
   },
   "outputs": [
    {
     "data": {
      "text/plain": [
       "['(banana, 3)', '(Mangoes, 5)', '(Table, 2)']"
      ]
     },
     "execution_count": 17,
     "metadata": {},
     "output_type": "execute_result"
    }
   ],
   "source": [
    "shopList2 = add_item('Table',2)\n",
    "shopList2"
   ]
  },
  {
   "cell_type": "markdown",
   "metadata": {},
   "source": [
    "## We can see from the above example, what happens if we pass mutable datatype as an argument\n",
    "\n",
    "**What we can do instead is pass `None` as a default argument**"
   ]
  },
  {
   "cell_type": "code",
   "execution_count": 20,
   "metadata": {
    "ExecuteTime": {
     "end_time": "2020-02-08T14:57:39.685947Z",
     "start_time": "2020-02-08T14:57:39.679951Z"
    }
   },
   "outputs": [],
   "source": [
    "def add_item(name, quantity, shoppingList = None):\n",
    "    if not shoppingList:\n",
    "        shoppingList = []\n",
    "    shoppingList.append(f\"({name}, {quantity})\")\n",
    "    return shoppingList"
   ]
  },
  {
   "cell_type": "code",
   "execution_count": 23,
   "metadata": {
    "ExecuteTime": {
     "end_time": "2020-02-08T14:58:04.531286Z",
     "start_time": "2020-02-08T14:58:04.525288Z"
    }
   },
   "outputs": [
    {
     "data": {
      "text/plain": [
       "['(banana, 3)', '(Mangoes, 5)']"
      ]
     },
     "execution_count": 23,
     "metadata": {},
     "output_type": "execute_result"
    }
   ],
   "source": [
    "shopList3 = add_item('banana',3)\n",
    "add_item('Mangoes',5,shopList3)\n",
    "shopList3"
   ]
  },
  {
   "cell_type": "markdown",
   "metadata": {},
   "source": [
    "## We can definitely use mutable datatypes as a default argument to our advantage\n",
    "\n",
    "**EXAMPLE:: When calculating the `Factorial`**"
   ]
  },
  {
   "cell_type": "code",
   "execution_count": 30,
   "metadata": {
    "ExecuteTime": {
     "end_time": "2020-02-08T15:12:18.009969Z",
     "start_time": "2020-02-08T15:12:18.001975Z"
    }
   },
   "outputs": [],
   "source": [
    "def factorial(num, cache={}): # See that dictionary is the mutable datatype\n",
    "    if num <= 1:\n",
    "        return 1\n",
    "    elif num in cache:\n",
    "        return cache[num]\n",
    "    else:\n",
    "        print(f\"Calculating {num}\")\n",
    "        result = num * factorial(num-1)\n",
    "        cache[num] = result\n",
    "        return result"
   ]
  },
  {
   "cell_type": "code",
   "execution_count": 31,
   "metadata": {
    "ExecuteTime": {
     "end_time": "2020-02-08T15:12:18.383715Z",
     "start_time": "2020-02-08T15:12:18.375719Z"
    }
   },
   "outputs": [
    {
     "name": "stdout",
     "output_type": "stream",
     "text": [
      "Calculating 10\n",
      "Calculating 9\n",
      "Calculating 8\n",
      "Calculating 7\n",
      "Calculating 6\n",
      "Calculating 5\n",
      "Calculating 4\n",
      "Calculating 3\n",
      "Calculating 2\n"
     ]
    },
    {
     "data": {
      "text/plain": [
       "3628800"
      ]
     },
     "execution_count": 31,
     "metadata": {},
     "output_type": "execute_result"
    }
   ],
   "source": [
    "factorial(10)"
   ]
  },
  {
   "cell_type": "code",
   "execution_count": 35,
   "metadata": {
    "ExecuteTime": {
     "end_time": "2020-02-08T15:12:52.834804Z",
     "start_time": "2020-02-08T15:12:52.827810Z"
    }
   },
   "outputs": [
    {
     "data": {
      "text/plain": [
       "120"
      ]
     },
     "execution_count": 35,
     "metadata": {},
     "output_type": "execute_result"
    }
   ],
   "source": [
    "factorial(5)"
   ]
  },
  {
   "cell_type": "markdown",
   "metadata": {},
   "source": [
    "**From example we can see that dictionary is holding values which we can use again\n",
    "Initially it calculated for all factorial 10, but for factorial 5, it used the stored values in the cache dictionary**"
   ]
  },
  {
   "cell_type": "code",
   "execution_count": null,
   "metadata": {},
   "outputs": [],
   "source": []
  }
 ],
 "metadata": {
  "kernelspec": {
   "display_name": "Python 3",
   "language": "python",
   "name": "python3"
  },
  "language_info": {
   "codemirror_mode": {
    "name": "ipython",
    "version": 3
   },
   "file_extension": ".py",
   "mimetype": "text/x-python",
   "name": "python",
   "nbconvert_exporter": "python",
   "pygments_lexer": "ipython3",
   "version": "3.7.2"
  },
  "toc": {
   "base_numbering": 1,
   "nav_menu": {},
   "number_sections": true,
   "sideBar": true,
   "skip_h1_title": false,
   "title_cell": "Table of Contents",
   "title_sidebar": "Contents",
   "toc_cell": false,
   "toc_position": {},
   "toc_section_display": true,
   "toc_window_display": true
  }
 },
 "nbformat": 4,
 "nbformat_minor": 2
}
