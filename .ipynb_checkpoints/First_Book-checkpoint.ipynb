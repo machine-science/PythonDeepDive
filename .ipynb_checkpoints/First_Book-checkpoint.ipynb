{
 "cells": [
  {
   "cell_type": "markdown",
   "metadata": {},
   "source": [
    "# Comments and MultiLine comment"
   ]
  },
  {
   "cell_type": "code",
   "execution_count": 3,
   "metadata": {
    "ExecuteTime": {
     "end_time": "2020-01-20T15:48:59.181005Z",
     "start_time": "2020-01-20T15:48:59.173008Z"
    }
   },
   "outputs": [],
   "source": [
    "a = [1,2,3]\n",
    "# or\n",
    "b=[1,\n",
    "  2,\n",
    "  3]"
   ]
  },
  {
   "cell_type": "code",
   "execution_count": 4,
   "metadata": {
    "ExecuteTime": {
     "end_time": "2020-01-20T15:49:52.146474Z",
     "start_time": "2020-01-20T15:49:52.142478Z"
    }
   },
   "outputs": [],
   "source": [
    "# comments in list\n",
    "a = [1 #item1\n",
    "    ,2 #item2\n",
    "    ]"
   ]
  },
  {
   "cell_type": "code",
   "execution_count": 5,
   "metadata": {
    "ExecuteTime": {
     "end_time": "2020-01-20T15:49:54.183292Z",
     "start_time": "2020-01-20T15:49:54.169320Z"
    }
   },
   "outputs": [
    {
     "data": {
      "text/plain": [
       "[1, 2]"
      ]
     },
     "execution_count": 5,
     "metadata": {},
     "output_type": "execute_result"
    }
   ],
   "source": [
    "a"
   ]
  },
  {
   "cell_type": "code",
   "execution_count": 7,
   "metadata": {
    "ExecuteTime": {
     "end_time": "2020-01-20T15:51:51.038420Z",
     "start_time": "2020-01-20T15:51:51.034421Z"
    }
   },
   "outputs": [],
   "source": [
    "one = {'key1':1 #value for key1 \n",
    "       ,'key2':2 #value for key 2\n",
    "      }"
   ]
  },
  {
   "cell_type": "code",
   "execution_count": 8,
   "metadata": {
    "ExecuteTime": {
     "end_time": "2020-01-20T15:51:53.137686Z",
     "start_time": "2020-01-20T15:51:53.131690Z"
    }
   },
   "outputs": [
    {
     "data": {
      "text/plain": [
       "{'key1': 1, 'key2': 2}"
      ]
     },
     "execution_count": 8,
     "metadata": {},
     "output_type": "execute_result"
    }
   ],
   "source": [
    "one"
   ]
  },
  {
   "cell_type": "code",
   "execution_count": 11,
   "metadata": {
    "ExecuteTime": {
     "end_time": "2020-01-20T15:54:21.698785Z",
     "start_time": "2020-01-20T15:54:21.691791Z"
    }
   },
   "outputs": [],
   "source": [
    "def func(a #this is a value of a variable\n",
    "         ,b # This is a user defined value\n",
    "         ,c # This will be taken as hyper-parameter\n",
    "        ):\n",
    "    print(a,b,c)"
   ]
  },
  {
   "cell_type": "code",
   "execution_count": 12,
   "metadata": {
    "ExecuteTime": {
     "end_time": "2020-01-20T15:54:41.102535Z",
     "start_time": "2020-01-20T15:54:41.093541Z"
    }
   },
   "outputs": [
    {
     "name": "stdout",
     "output_type": "stream",
     "text": [
      "1 5 9\n"
     ]
    }
   ],
   "source": [
    "func(1,5,9)"
   ]
  },
  {
   "cell_type": "markdown",
   "metadata": {},
   "source": [
    "## Line Continuation character"
   ]
  },
  {
   "cell_type": "code",
   "execution_count": 20,
   "metadata": {
    "ExecuteTime": {
     "end_time": "2020-01-20T15:59:37.277617Z",
     "start_time": "2020-01-20T15:59:37.268623Z"
    }
   },
   "outputs": [
    {
     "name": "stdout",
     "output_type": "stream",
     "text": [
      "yes\n"
     ]
    }
   ],
   "source": [
    "a = 10\n",
    "b = 20\n",
    "c = 30\n",
    "# line continuation character\n",
    "\n",
    "if b > a \\\n",
    "and c > b \\\n",
    "and c > a:\n",
    "    print(\"yes\")"
   ]
  },
  {
   "cell_type": "markdown",
   "metadata": {},
   "source": [
    "## Tripple delimeter"
   ]
  },
  {
   "cell_type": "code",
   "execution_count": 24,
   "metadata": {
    "ExecuteTime": {
     "end_time": "2020-01-20T16:00:46.675565Z",
     "start_time": "2020-01-20T16:00:46.669569Z"
    }
   },
   "outputs": [
    {
     "data": {
      "text/plain": [
       "'This is a string'"
      ]
     },
     "execution_count": 24,
     "metadata": {},
     "output_type": "execute_result"
    }
   ],
   "source": [
    "a = '''This is a string'''\n",
    "a"
   ]
  },
  {
   "cell_type": "code",
   "execution_count": 25,
   "metadata": {
    "ExecuteTime": {
     "end_time": "2020-01-20T16:00:47.646927Z",
     "start_time": "2020-01-20T16:00:47.643934Z"
    }
   },
   "outputs": [],
   "source": [
    "a = '''we can split it in \n",
    "multiple line'''"
   ]
  },
  {
   "cell_type": "code",
   "execution_count": 26,
   "metadata": {
    "ExecuteTime": {
     "end_time": "2020-01-20T16:00:48.082902Z",
     "start_time": "2020-01-20T16:00:48.076895Z"
    }
   },
   "outputs": [
    {
     "data": {
      "text/plain": [
       "'we can split it in \\nmultiple line'"
      ]
     },
     "execution_count": 26,
     "metadata": {},
     "output_type": "execute_result"
    }
   ],
   "source": [
    "a"
   ]
  },
  {
   "cell_type": "markdown",
   "metadata": {},
   "source": [
    "# Identifier names\n",
    "\n",
    "- Identifiers are case-sensitive\n",
    "- Starts with Letter or underscore\n",
    "- They cannot be reserved words (keywords)\n",
    "\n",
    "## Conventions\n",
    "- variable name staring with '_' is to represent **private** or **Internal** object.That is, reader whould not mess with these variables.\n",
    "- So when you do *from module import * * if this _my_var inside this,then it will not import that. That doesn't mean you cannot access it.\n",
    "- $__my_var$ (Double Underscore at the beginning) is used for name mangling. Which is use for inheritance chain\n",
    "- $__my_var__$ (Start and end with doubel underscore): These are really system defined names. So python reserves it's naming convention in this fashion and it hasspecial meanig for interpretor, which means do not create new one but stick to the defined by Python"
   ]
  },
  {
   "cell_type": "markdown",
   "metadata": {},
   "source": [
    "# While else\n",
    "Python allows us to have while else statement. Here while block needs to have break statement in it.\n",
    "So, if while does encounter break, then it will not execute else statement. \n",
    "\n",
    "In following example we will check list elements and compare with other element to check if it is in the list.  "
   ]
  },
  {
   "cell_type": "code",
   "execution_count": 34,
   "metadata": {
    "ExecuteTime": {
     "end_time": "2020-01-20T16:59:46.361318Z",
     "start_time": "2020-01-20T16:59:46.353324Z"
    }
   },
   "outputs": [
    {
     "name": "stdout",
     "output_type": "stream",
     "text": [
      "The value 10 has been added to the list [1, 2, 3, 10]\n"
     ]
    }
   ],
   "source": [
    "l = [1,2,3]\n",
    "val = 10\n",
    "idx = 0\n",
    "\n",
    "while idx < len(l):\n",
    "    if l[idx] == val:\n",
    "        print(\"{0} value is in the list, {1}\".format(val, l))\n",
    "        break\n",
    "    idx += 1\n",
    "else:\n",
    "    l.append(val)\n",
    "    print(\"The value {0} has been added to the list {1}\".format(val, l))"
   ]
  },
  {
   "cell_type": "markdown",
   "metadata": {
    "ExecuteTime": {
     "end_time": "2020-01-20T16:58:03.824323Z",
     "start_time": "2020-01-20T16:58:03.817329Z"
    }
   },
   "source": [
    "# Break, continue with try statement\n",
    "\n",
    "- The error handling has 3 steps try, except and finally\n",
    "- Finally block will always run even if try orexcept block has continue or break statement in it"
   ]
  },
  {
   "cell_type": "code",
   "execution_count": 37,
   "metadata": {
    "ExecuteTime": {
     "end_time": "2020-01-20T17:15:33.168611Z",
     "start_time": "2020-01-20T17:15:33.157618Z"
    }
   },
   "outputs": [
    {
     "name": "stdout",
     "output_type": "stream",
     "text": [
      "=============================\n",
      "1,1 - always execute\n",
      "1, 1 main while loop\n",
      "=============================\n",
      "2, 0 - Division by zero error\n",
      "2,0 - always execute\n",
      "=============================\n",
      "3,-1 - always execute\n",
      "3, -1 main while loop\n",
      "=============================\n",
      "4,-2 - always execute\n",
      "4, -2 main while loop\n"
     ]
    }
   ],
   "source": [
    "a = 0\n",
    "b = 2\n",
    "\n",
    "while a < 4:\n",
    "    print(\"=============================\")\n",
    "    a += 1\n",
    "    b -= 1\n",
    "    \n",
    "    try:\n",
    "        a/b\n",
    "    except ZeroDivisionError:\n",
    "        print(\"{0}, {1} - Division by zero error\".format(a,b))\n",
    "        continue\n",
    "    finally:\n",
    "        print(\"{0},{1} - always execute\".format(a,b))\n",
    "\n",
    "    print(\"{0}, {1} main while loop\".format(a,b))\n"
   ]
  },
  {
   "cell_type": "markdown",
   "metadata": {},
   "source": [
    "- In the above example we can notice thatfinally block executed even after encountering continue statement in except block\n",
    "- Where as main while loop print statement did not get executed. \n",
    "<br>\n",
    "\n",
    "<center>\n",
    "    <strong> The above is also true for <i> BREAK </i> statement </strong>\n",
    "</center>\n",
    "\n",
    "But Break this loop with break statement will be terminated as soon as it encounters the break"
   ]
  },
  {
   "cell_type": "code",
   "execution_count": 38,
   "metadata": {
    "ExecuteTime": {
     "end_time": "2020-01-20T17:22:53.111981Z",
     "start_time": "2020-01-20T17:22:53.104004Z"
    }
   },
   "outputs": [
    {
     "name": "stdout",
     "output_type": "stream",
     "text": [
      "=============================\n",
      "1,1 - always execute\n",
      "1, 1 main while loop\n",
      "=============================\n",
      "2, 0 - Division by zero error\n",
      "2,0 - always execute\n"
     ]
    }
   ],
   "source": [
    "a = 0\n",
    "b = 2\n",
    "\n",
    "while a < 4:\n",
    "    print(\"=============================\")\n",
    "    a += 1\n",
    "    b -= 1\n",
    "    \n",
    "    try:\n",
    "        a/b\n",
    "    except ZeroDivisionError:\n",
    "        print(\"{0}, {1} - Division by zero error\".format(a,b))\n",
    "        break\n",
    "    finally:\n",
    "        print(\"{0},{1} - always execute\".format(a,b))\n",
    "\n",
    "    print(\"{0}, {1} main while loop\".format(a,b))"
   ]
  },
  {
   "cell_type": "code",
   "execution_count": 39,
   "metadata": {
    "ExecuteTime": {
     "end_time": "2020-01-20T17:39:42.577799Z",
     "start_time": "2020-01-20T17:39:42.569802Z"
    }
   },
   "outputs": [
    {
     "name": "stdout",
     "output_type": "stream",
     "text": [
      "0 j\n",
      "1 e\n",
      "2 l\n",
      "3 l\n",
      "4 o\n"
     ]
    }
   ],
   "source": [
    "i = 'jello'\n",
    "for index, c in enumerate(i):\n",
    "    print(index,c)"
   ]
  },
  {
   "cell_type": "markdown",
   "metadata": {},
   "source": [
    "# Variables"
   ]
  },
  {
   "cell_type": "code",
   "execution_count": 1,
   "metadata": {
    "ExecuteTime": {
     "end_time": "2020-01-24T17:05:41.742061Z",
     "start_time": "2020-01-24T17:05:41.733065Z"
    }
   },
   "outputs": [
    {
     "name": "stdout",
     "output_type": "stream",
     "text": [
      "1607981376\n"
     ]
    }
   ],
   "source": [
    "my_var = 10\n",
    "# So 10 is stored somewhere in memory and my_var is just a reference to that memory\n",
    "print(id(my_var))"
   ]
  },
  {
   "cell_type": "code",
   "execution_count": 2,
   "metadata": {
    "ExecuteTime": {
     "end_time": "2020-01-24T17:06:31.810962Z",
     "start_time": "2020-01-24T17:06:31.805966Z"
    }
   },
   "outputs": [
    {
     "name": "stdout",
     "output_type": "stream",
     "text": [
      "0x5fd7d940\n"
     ]
    }
   ],
   "source": [
    "# print hexadecimal version of memory address\n",
    "print(hex(id(my_var)))"
   ]
  },
  {
   "cell_type": "code",
   "execution_count": null,
   "metadata": {},
   "outputs": [],
   "source": []
  },
  {
   "cell_type": "code",
   "execution_count": 4,
   "metadata": {
    "ExecuteTime": {
     "end_time": "2020-01-24T17:09:31.007272Z",
     "start_time": "2020-01-24T17:09:31.000276Z"
    }
   },
   "outputs": [
    {
     "name": "stdout",
     "output_type": "stream",
     "text": [
      "1607981376\n",
      "1607981376\n"
     ]
    }
   ],
   "source": [
    "my_var = 10\n",
    "# when we assign variable to other variable, there is a sharing of reference\n",
    "# they both point to the same location\n",
    "second_var = my_var\n",
    "print(id(my_var))\n",
    "print(id(second_var))"
   ]
  },
  {
   "cell_type": "code",
   "execution_count": 7,
   "metadata": {
    "ExecuteTime": {
     "end_time": "2020-01-24T17:15:41.102053Z",
     "start_time": "2020-01-24T17:15:41.096057Z"
    }
   },
   "outputs": [
    {
     "data": {
      "text/plain": [
       "2"
      ]
     },
     "execution_count": 7,
     "metadata": {},
     "output_type": "execute_result"
    }
   ],
   "source": [
    "import sys\n",
    "ad = [1,2,3]\n",
    "sys.getrefcount(ad)"
   ]
  },
  {
   "cell_type": "code",
   "execution_count": 13,
   "metadata": {
    "ExecuteTime": {
     "end_time": "2020-01-24T17:18:04.326517Z",
     "start_time": "2020-01-24T17:18:04.321520Z"
    }
   },
   "outputs": [],
   "source": [
    "import ctypes\n",
    "def ref_count(address: int):\n",
    "    return ctypes.c_long.from_address(address).value"
   ]
  },
  {
   "cell_type": "code",
   "execution_count": 14,
   "metadata": {
    "ExecuteTime": {
     "end_time": "2020-01-24T17:18:04.563978Z",
     "start_time": "2020-01-24T17:18:04.557983Z"
    }
   },
   "outputs": [
    {
     "data": {
      "text/plain": [
       "1"
      ]
     },
     "execution_count": 14,
     "metadata": {},
     "output_type": "execute_result"
    }
   ],
   "source": [
    "ref_count(id(ad))"
   ]
  },
  {
   "cell_type": "code",
   "execution_count": null,
   "metadata": {},
   "outputs": [],
   "source": []
  }
 ],
 "metadata": {
  "kernelspec": {
   "display_name": "Python 3",
   "language": "python",
   "name": "python3"
  },
  "language_info": {
   "codemirror_mode": {
    "name": "ipython",
    "version": 3
   },
   "file_extension": ".py",
   "mimetype": "text/x-python",
   "name": "python",
   "nbconvert_exporter": "python",
   "pygments_lexer": "ipython3",
   "version": "3.7.2"
  },
  "toc": {
   "base_numbering": 1,
   "nav_menu": {},
   "number_sections": true,
   "sideBar": true,
   "skip_h1_title": false,
   "title_cell": "Table of Contents",
   "title_sidebar": "Contents",
   "toc_cell": false,
   "toc_position": {},
   "toc_section_display": true,
   "toc_window_display": true
  }
 },
 "nbformat": 4,
 "nbformat_minor": 2
}
