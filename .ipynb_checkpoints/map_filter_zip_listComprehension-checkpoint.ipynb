{
 "cells": [
  {
   "cell_type": "markdown",
   "metadata": {},
   "source": [
    "# The map function"
   ]
  },
  {
   "cell_type": "markdown",
   "metadata": {},
   "source": [
    "`map(func, *iterable)`\n",
    "\n",
    "***`iterables` -> a variable number of iterable objects***\n",
    "\n",
    "***`func` -> some function that takes as many arguments as there are iterable objects passed to iterables*** \n",
    "\n",
    "Func takes as many arguments as you provide iterables, this is because it allowes us to take this function and apply it to the iterables but in parallel.\n",
    "\n",
    "**map will return an 'iterator' that calculate the function applied to each element of the iterables (pair-wise)**\n",
    "\n",
    "<strong><span style='color: #ff3300'>The iterator stops as soon as one of the iterables has been exhausted so, unequal length of iterables can be used</span></strong>\n",
    "<br>\n",
    "***Basically it will stop at the shortest one***"
   ]
  },
  {
   "cell_type": "code",
   "execution_count": 3,
   "metadata": {
    "ExecuteTime": {
     "end_time": "2020-02-13T17:12:28.502089Z",
     "start_time": "2020-02-13T17:12:28.497092Z"
    }
   },
   "outputs": [],
   "source": [
    "def fact(n):\n",
    "    return 1 if n <= 1 else n * fact(n-1)"
   ]
  },
  {
   "cell_type": "code",
   "execution_count": 4,
   "metadata": {
    "ExecuteTime": {
     "end_time": "2020-02-13T17:12:28.695734Z",
     "start_time": "2020-02-13T17:12:28.673747Z"
    }
   },
   "outputs": [
    {
     "data": {
      "text/plain": [
       "120"
      ]
     },
     "execution_count": 4,
     "metadata": {},
     "output_type": "execute_result"
    }
   ],
   "source": [
    "fact(5)"
   ]
  },
  {
   "cell_type": "code",
   "execution_count": 5,
   "metadata": {
    "ExecuteTime": {
     "end_time": "2020-02-13T17:12:37.949969Z",
     "start_time": "2020-02-13T17:12:37.941975Z"
    }
   },
   "outputs": [
    {
     "data": {
      "text/plain": [
       "24"
      ]
     },
     "execution_count": 5,
     "metadata": {},
     "output_type": "execute_result"
    }
   ],
   "source": [
    "fact(4)"
   ]
  },
  {
   "cell_type": "code",
   "execution_count": 6,
   "metadata": {
    "ExecuteTime": {
     "end_time": "2020-02-13T17:13:18.677854Z",
     "start_time": "2020-02-13T17:13:18.671859Z"
    }
   },
   "outputs": [],
   "source": [
    "results = map(fact, range(6))"
   ]
  },
  {
   "cell_type": "code",
   "execution_count": 7,
   "metadata": {
    "ExecuteTime": {
     "end_time": "2020-02-13T17:13:29.403773Z",
     "start_time": "2020-02-13T17:13:29.393782Z"
    }
   },
   "outputs": [
    {
     "name": "stdout",
     "output_type": "stream",
     "text": [
      "1\n",
      "1\n",
      "2\n",
      "6\n",
      "24\n",
      "120\n"
     ]
    }
   ],
   "source": [
    "for x in results:\n",
    "    print(x)"
   ]
  },
  {
   "cell_type": "code",
   "execution_count": 8,
   "metadata": {
    "ExecuteTime": {
     "end_time": "2020-02-13T17:14:31.020079Z",
     "start_time": "2020-02-13T17:14:31.016081Z"
    }
   },
   "outputs": [],
   "source": [
    "# Here we might think we have the iterator stored in results variable and try to run this loop again \n",
    "for x in results:\n",
    "    print(x)"
   ]
  },
  {
   "cell_type": "markdown",
   "metadata": {},
   "source": [
    "**And we get nothing. Why? Because in Python3 the map, filter and zip do not return list they return generators.**\n",
    "\n",
    "**What does that mean?**\n",
    "\n",
    "**Generators do not precalculate, means when we created the map object we haven't created the map object yet, but when we request the items iterating throught the generator, then Python calulates**\n",
    "\n",
    "**What we can do is: cast the map to the list when it is created**"
   ]
  },
  {
   "cell_type": "code",
   "execution_count": 9,
   "metadata": {
    "ExecuteTime": {
     "end_time": "2020-02-13T17:19:49.601798Z",
     "start_time": "2020-02-13T17:19:49.597803Z"
    }
   },
   "outputs": [],
   "source": [
    "results = list(map(fact, range(6)))"
   ]
  },
  {
   "cell_type": "code",
   "execution_count": 10,
   "metadata": {
    "ExecuteTime": {
     "end_time": "2020-02-13T17:19:52.557080Z",
     "start_time": "2020-02-13T17:19:52.550082Z"
    }
   },
   "outputs": [
    {
     "data": {
      "text/plain": [
       "[1, 1, 2, 6, 24, 120]"
      ]
     },
     "execution_count": 10,
     "metadata": {},
     "output_type": "execute_result"
    }
   ],
   "source": [
    "results"
   ]
  },
  {
   "cell_type": "code",
   "execution_count": 11,
   "metadata": {
    "ExecuteTime": {
     "end_time": "2020-02-13T17:20:06.743394Z",
     "start_time": "2020-02-13T17:20:06.739397Z"
    }
   },
   "outputs": [],
   "source": [
    "# And we can use this list as many time as we want"
   ]
  },
  {
   "cell_type": "code",
   "execution_count": 16,
   "metadata": {
    "ExecuteTime": {
     "end_time": "2020-02-13T17:22:10.899073Z",
     "start_time": "2020-02-13T17:22:10.894078Z"
    }
   },
   "outputs": [],
   "source": [
    "l1 = [1,2,3,4,5]\n",
    "l2 = [10, 20, 30]\n",
    "l3 = [100, 200, 300, 400]"
   ]
  },
  {
   "cell_type": "code",
   "execution_count": 17,
   "metadata": {
    "ExecuteTime": {
     "end_time": "2020-02-13T17:22:45.122681Z",
     "start_time": "2020-02-13T17:22:45.117682Z"
    }
   },
   "outputs": [
    {
     "name": "stdout",
     "output_type": "stream",
     "text": [
      "[111, 222, 333]\n"
     ]
    }
   ],
   "source": [
    "results = list(map(lambda x,y,z:x+y+z, l1,l2,l3))\n",
    "print(results)"
   ]
  },
  {
   "cell_type": "markdown",
   "metadata": {},
   "source": [
    "**We can note that, as map function does not start evaluating until it has been loope through, it also does not give error fro wrong number of arguments**"
   ]
  },
  {
   "cell_type": "code",
   "execution_count": 18,
   "metadata": {
    "ExecuteTime": {
     "end_time": "2020-02-13T17:26:16.460463Z",
     "start_time": "2020-02-13T17:26:16.454466Z"
    }
   },
   "outputs": [],
   "source": [
    "results2 = map(lambda x,y : x+y, l1,l2,l3)"
   ]
  },
  {
   "cell_type": "code",
   "execution_count": 19,
   "metadata": {
    "ExecuteTime": {
     "end_time": "2020-02-13T17:26:38.386810Z",
     "start_time": "2020-02-13T17:26:38.382806Z"
    }
   },
   "outputs": [],
   "source": [
    "#above etatement did not throw any err"
   ]
  },
  {
   "cell_type": "code",
   "execution_count": 20,
   "metadata": {
    "ExecuteTime": {
     "end_time": "2020-02-13T17:26:55.184563Z",
     "start_time": "2020-02-13T17:26:55.180565Z"
    }
   },
   "outputs": [],
   "source": [
    "# but now if we apply list to it then??"
   ]
  },
  {
   "cell_type": "code",
   "execution_count": 21,
   "metadata": {
    "ExecuteTime": {
     "end_time": "2020-02-13T17:27:01.474473Z",
     "start_time": "2020-02-13T17:27:01.463461Z"
    }
   },
   "outputs": [
    {
     "ename": "TypeError",
     "evalue": "<lambda>() takes 2 positional arguments but 3 were given",
     "output_type": "error",
     "traceback": [
      "\u001b[1;31m---------------------------------------------------------------------------\u001b[0m",
      "\u001b[1;31mTypeError\u001b[0m                                 Traceback (most recent call last)",
      "\u001b[1;32m<ipython-input-21-101cb2ecfa85>\u001b[0m in \u001b[0;36m<module>\u001b[1;34m\u001b[0m\n\u001b[1;32m----> 1\u001b[1;33m \u001b[0mlist\u001b[0m\u001b[1;33m(\u001b[0m\u001b[0mresults2\u001b[0m\u001b[1;33m)\u001b[0m\u001b[1;33m\u001b[0m\u001b[1;33m\u001b[0m\u001b[0m\n\u001b[0m",
      "\u001b[1;31mTypeError\u001b[0m: <lambda>() takes 2 positional arguments but 3 were given"
     ]
    }
   ],
   "source": [
    "list(results2)"
   ]
  },
  {
   "cell_type": "code",
   "execution_count": 22,
   "metadata": {
    "ExecuteTime": {
     "end_time": "2020-02-13T17:28:16.029709Z",
     "start_time": "2020-02-13T17:28:16.025712Z"
    }
   },
   "outputs": [],
   "source": [
    "#  There you go,now it threw an error"
   ]
  },
  {
   "cell_type": "markdown",
   "metadata": {},
   "source": [
    "# `filter`\n",
    "\n",
    "**It will keep only `Truthy` statements that is conditions**"
   ]
  },
  {
   "cell_type": "code",
   "execution_count": 24,
   "metadata": {
    "ExecuteTime": {
     "end_time": "2020-02-13T17:30:30.615276Z",
     "start_time": "2020-02-13T17:30:30.607281Z"
    }
   },
   "outputs": [
    {
     "data": {
      "text/plain": [
       "[0, 3, 6, 9, 12, 15, 18, 21, 24]"
      ]
     },
     "execution_count": 24,
     "metadata": {},
     "output_type": "execute_result"
    }
   ],
   "source": [
    "# Number divisible 3\n",
    "list(filter(lambda x : x % 3 == 0, range(25)))"
   ]
  },
  {
   "cell_type": "code",
   "execution_count": 27,
   "metadata": {
    "ExecuteTime": {
     "end_time": "2020-02-13T17:37:22.049149Z",
     "start_time": "2020-02-13T17:37:22.042148Z"
    }
   },
   "outputs": [
    {
     "data": {
      "text/plain": [
       "[1, 4, 8, 6, True]"
      ]
     },
     "execution_count": 27,
     "metadata": {},
     "output_type": "execute_result"
    }
   ],
   "source": [
    "list(filter(None, [1,0,4,8,6,\"\", None,True, False])) # To get only true values"
   ]
  },
  {
   "cell_type": "code",
   "execution_count": 32,
   "metadata": {
    "ExecuteTime": {
     "end_time": "2020-02-13T17:41:11.520061Z",
     "start_time": "2020-02-13T17:41:11.514066Z"
    }
   },
   "outputs": [],
   "source": [
    "l1 = [1,2,3,4]\n",
    "l2 = [10,20,30,40]\n",
    "l3 = \"python\"\n",
    "resultsZip = zip(l1,l2,l3)"
   ]
  },
  {
   "cell_type": "code",
   "execution_count": 33,
   "metadata": {
    "ExecuteTime": {
     "end_time": "2020-02-13T17:41:14.915907Z",
     "start_time": "2020-02-13T17:41:14.908916Z"
    }
   },
   "outputs": [
    {
     "data": {
      "text/plain": [
       "[(1, 10, 'p'), (2, 20, 'y'), (3, 30, 't'), (4, 40, 'h')]"
      ]
     },
     "execution_count": 33,
     "metadata": {},
     "output_type": "execute_result"
    }
   ],
   "source": [
    "[x for x in resultsZip]"
   ]
  },
  {
   "cell_type": "code",
   "execution_count": 34,
   "metadata": {
    "ExecuteTime": {
     "end_time": "2020-02-13T17:44:29.483186Z",
     "start_time": "2020-02-13T17:44:29.477183Z"
    }
   },
   "outputs": [
    {
     "data": {
      "text/plain": [
       "[]"
      ]
     },
     "execution_count": 34,
     "metadata": {},
     "output_type": "execute_result"
    }
   ],
   "source": [
    "# Zip differs the calculations until you request it, but it is a generator, it is not a list. \n",
    "# Which means once we exhausted the generator we cannot go back.\n",
    "# If you want to reuse it, you have to assign it to avaribale list typecasted\n",
    "# someVar = list(zip(l1, l2))\n",
    "\n",
    "\n",
    "[x for x in resultsZip]"
   ]
  },
  {
   "cell_type": "code",
   "execution_count": 35,
   "metadata": {
    "ExecuteTime": {
     "end_time": "2020-02-13T17:45:24.210277Z",
     "start_time": "2020-02-13T17:45:24.205283Z"
    }
   },
   "outputs": [
    {
     "name": "stdout",
     "output_type": "stream",
     "text": [
      "[0, 1, 2, 3, 4, 5, 6, 7, 8, 9]\n"
     ]
    }
   ],
   "source": [
    "l = range(10)\n",
    "print(list(l))"
   ]
  },
  {
   "cell_type": "code",
   "execution_count": 36,
   "metadata": {
    "ExecuteTime": {
     "end_time": "2020-02-13T17:45:39.931823Z",
     "start_time": "2020-02-13T17:45:39.926824Z"
    }
   },
   "outputs": [
    {
     "data": {
      "text/plain": [
       "[1, 1, 2, 6, 24, 120, 720, 5040, 40320, 362880]"
      ]
     },
     "execution_count": 36,
     "metadata": {},
     "output_type": "execute_result"
    }
   ],
   "source": [
    "list(map(fact, l))"
   ]
  },
  {
   "cell_type": "code",
   "execution_count": 37,
   "metadata": {
    "ExecuteTime": {
     "end_time": "2020-02-13T17:46:05.261249Z",
     "start_time": "2020-02-13T17:46:05.256251Z"
    }
   },
   "outputs": [],
   "source": [
    "results = [fact(n) for n in l]"
   ]
  },
  {
   "cell_type": "code",
   "execution_count": 38,
   "metadata": {
    "ExecuteTime": {
     "end_time": "2020-02-13T17:46:08.966391Z",
     "start_time": "2020-02-13T17:46:08.960393Z"
    }
   },
   "outputs": [
    {
     "data": {
      "text/plain": [
       "[1, 1, 2, 6, 24, 120, 720, 5040, 40320, 362880]"
      ]
     },
     "execution_count": 38,
     "metadata": {},
     "output_type": "execute_result"
    }
   ],
   "source": [
    "results"
   ]
  },
  {
   "cell_type": "markdown",
   "metadata": {},
   "source": [
    "**In this case map is better because, it doesn't do the calculations until they requested to**\n",
    "\n",
    "**Whereas list comprehension, do the calculations and store them in the list**"
   ]
  },
  {
   "cell_type": "markdown",
   "metadata": {},
   "source": [
    "**Generator Expression -->**"
   ]
  },
  {
   "cell_type": "code",
   "execution_count": 39,
   "metadata": {
    "ExecuteTime": {
     "end_time": "2020-02-13T17:50:14.582284Z",
     "start_time": "2020-02-13T17:50:14.578286Z"
    }
   },
   "outputs": [],
   "source": [
    "results = (fact(n) for n in l)"
   ]
  },
  {
   "cell_type": "markdown",
   "metadata": {},
   "source": [
    "*This will generate Generator instead of list and we can use this as reular generator*"
   ]
  },
  {
   "cell_type": "code",
   "execution_count": 40,
   "metadata": {
    "ExecuteTime": {
     "end_time": "2020-02-13T17:51:10.565129Z",
     "start_time": "2020-02-13T17:51:10.559132Z"
    }
   },
   "outputs": [
    {
     "name": "stdout",
     "output_type": "stream",
     "text": [
      "1\n",
      "1\n",
      "2\n",
      "6\n",
      "24\n",
      "120\n",
      "720\n",
      "5040\n",
      "40320\n",
      "362880\n"
     ]
    }
   ],
   "source": [
    "for i in results:\n",
    "    print(i)"
   ]
  },
  {
   "cell_type": "markdown",
   "metadata": {},
   "source": [
    "*And it faces the same problem as well*"
   ]
  },
  {
   "cell_type": "code",
   "execution_count": 41,
   "metadata": {
    "ExecuteTime": {
     "end_time": "2020-02-13T17:51:38.960818Z",
     "start_time": "2020-02-13T17:51:38.956820Z"
    }
   },
   "outputs": [],
   "source": [
    "for i in results:\n",
    "    print(i)"
   ]
  },
  {
   "cell_type": "markdown",
   "metadata": {},
   "source": [
    "# Reducing functions\n",
    "\n",
    "**These are the functions that combines an iterable recursively, ending up with a single return value**\n",
    "\n",
    "**AKA *accumulators, aggregators or folding functions***\n",
    "\n",
    "<strong style=\"color:#8000ff\">Finding a maximum value in an iterable</strong>\n",
    "\n",
    "So how can we find a maximum in a sequence? <br>\n"
   ]
  },
  {
   "cell_type": "code",
   "execution_count": 45,
   "metadata": {
    "ExecuteTime": {
     "end_time": "2020-02-14T16:36:22.699469Z",
     "start_time": "2020-02-14T16:36:22.693474Z"
    }
   },
   "outputs": [
    {
     "data": {
      "text/plain": [
       "5"
      ]
     },
     "execution_count": 45,
     "metadata": {},
     "output_type": "execute_result"
    }
   ],
   "source": [
    "#  we need to import it from functool module\n",
    "from functools import reduce\n",
    "\n",
    "l = [1,2,3,4,5]\n",
    "\n",
    "# its going to return maximum of iterable\n",
    "reduce(lambda a,b : a if a>b else b, l)\n",
    "\n",
    "# It follows the pattern:\n",
    "''' \n",
    "1. it first stores the first element in the list in a variable.\n",
    "2. then it loops from second element that is index 1 till the end and compares that variable value with \n",
    "    rest of the loop values. If the loop value is greater than variable value it replaces the variable value with\n",
    "    the loop value.\n",
    "3. Loop continues till it exhausts the iterable.\n",
    "\n",
    "'''\n"
   ]
  },
  {
   "cell_type": "code",
   "execution_count": 77,
   "metadata": {
    "ExecuteTime": {
     "end_time": "2020-02-14T17:33:54.663956Z",
     "start_time": "2020-02-14T17:33:54.655979Z"
    }
   },
   "outputs": [
    {
     "data": {
      "text/plain": [
       "2"
      ]
     },
     "execution_count": 77,
     "metadata": {},
     "output_type": "execute_result"
    }
   ],
   "source": [
    "# for example:\n",
    "\n",
    "_max = lambda a,b : a if a > b else b\n",
    "\n",
    "_max(1,2)"
   ]
  },
  {
   "cell_type": "code",
   "execution_count": 78,
   "metadata": {
    "ExecuteTime": {
     "end_time": "2020-02-14T17:35:26.438750Z",
     "start_time": "2020-02-14T17:35:26.431752Z"
    }
   },
   "outputs": [
    {
     "data": {
      "text/plain": [
       "5"
      ]
     },
     "execution_count": 78,
     "metadata": {},
     "output_type": "execute_result"
    }
   ],
   "source": [
    "def max_seq(seq):\n",
    "    result = seq[0]\n",
    "    for x in seq[1:]:\n",
    "        result  = _max(result, x)\n",
    "    return result\n",
    "\n",
    "max_seq(l)"
   ]
  },
  {
   "cell_type": "code",
   "execution_count": null,
   "metadata": {},
   "outputs": [],
   "source": []
  },
  {
   "cell_type": "code",
   "execution_count": 46,
   "metadata": {
    "ExecuteTime": {
     "end_time": "2020-02-14T16:37:52.939561Z",
     "start_time": "2020-02-14T16:37:52.932565Z"
    }
   },
   "outputs": [
    {
     "data": {
      "text/plain": [
       "9"
      ]
     },
     "execution_count": 46,
     "metadata": {},
     "output_type": "execute_result"
    }
   ],
   "source": [
    "# it works with sets as well as string\n",
    "reduce(lambda a,b :a if a > b else b, {5,6,2,9})"
   ]
  },
  {
   "cell_type": "code",
   "execution_count": 48,
   "metadata": {
    "ExecuteTime": {
     "end_time": "2020-02-14T16:38:42.370655Z",
     "start_time": "2020-02-14T16:38:42.363658Z"
    }
   },
   "outputs": [
    {
     "data": {
      "text/plain": [
       "'h'"
      ]
     },
     "execution_count": 48,
     "metadata": {},
     "output_type": "execute_result"
    }
   ],
   "source": [
    "reduce(lambda a,b :a if a < b else b, 'python')"
   ]
  },
  {
   "cell_type": "code",
   "execution_count": 59,
   "metadata": {
    "ExecuteTime": {
     "end_time": "2020-02-14T16:45:34.229536Z",
     "start_time": "2020-02-14T16:45:34.222540Z"
    }
   },
   "outputs": [
    {
     "data": {
      "text/plain": [
       "'This is some Python Code'"
      ]
     },
     "execution_count": 59,
     "metadata": {},
     "output_type": "execute_result"
    }
   ],
   "source": [
    "reduce(lambda a,b : a+\" \" +b, (\"This\", \"is\", \"some\", \"Python Code\"))"
   ]
  },
  {
   "cell_type": "code",
   "execution_count": 61,
   "metadata": {
    "ExecuteTime": {
     "end_time": "2020-02-14T17:12:11.552106Z",
     "start_time": "2020-02-14T17:12:11.546110Z"
    }
   },
   "outputs": [],
   "source": [
    "# sum is the built in function in python but not the product,\n",
    "# we can do product using reduce\n",
    "li1 = [1,2,3,4,5]\n",
    "def prod(iterable):\n",
    "    return reduce(lambda a,b: a*b,iterable)"
   ]
  },
  {
   "cell_type": "code",
   "execution_count": 62,
   "metadata": {
    "ExecuteTime": {
     "end_time": "2020-02-14T17:12:19.316788Z",
     "start_time": "2020-02-14T17:12:19.309794Z"
    }
   },
   "outputs": [
    {
     "data": {
      "text/plain": [
       "120"
      ]
     },
     "execution_count": 62,
     "metadata": {},
     "output_type": "execute_result"
    }
   ],
   "source": [
    "prod(li1)"
   ]
  },
  {
   "cell_type": "code",
   "execution_count": 64,
   "metadata": {
    "ExecuteTime": {
     "end_time": "2020-02-14T17:16:29.460977Z",
     "start_time": "2020-02-14T17:16:29.455979Z"
    }
   },
   "outputs": [],
   "source": [
    "# We can calculate factorial with this \n",
    "\n",
    "def factorial(n):\n",
    "    return reduce(lambda a,b:a*b,range(1,n+1))"
   ]
  },
  {
   "cell_type": "code",
   "execution_count": 66,
   "metadata": {
    "ExecuteTime": {
     "end_time": "2020-02-14T17:16:39.466465Z",
     "start_time": "2020-02-14T17:16:39.459470Z"
    }
   },
   "outputs": [
    {
     "data": {
      "text/plain": [
       "3628800"
      ]
     },
     "execution_count": 66,
     "metadata": {},
     "output_type": "execute_result"
    }
   ],
   "source": [
    "factorial(10)"
   ]
  },
  {
   "cell_type": "code",
   "execution_count": 67,
   "metadata": {
    "ExecuteTime": {
     "end_time": "2020-02-14T17:18:22.623954Z",
     "start_time": "2020-02-14T17:18:22.606964Z"
    }
   },
   "outputs": [
    {
     "ename": "TypeError",
     "evalue": "reduce() of empty sequence with no initial value",
     "output_type": "error",
     "traceback": [
      "\u001b[1;31m---------------------------------------------------------------------------\u001b[0m",
      "\u001b[1;31mTypeError\u001b[0m                                 Traceback (most recent call last)",
      "\u001b[1;32m<ipython-input-67-5ecad2855ec0>\u001b[0m in \u001b[0;36m<module>\u001b[1;34m\u001b[0m\n\u001b[0;32m      1\u001b[0m \u001b[0ml2\u001b[0m \u001b[1;33m=\u001b[0m \u001b[1;33m[\u001b[0m\u001b[1;33m]\u001b[0m\u001b[1;33m\u001b[0m\u001b[1;33m\u001b[0m\u001b[0m\n\u001b[1;32m----> 2\u001b[1;33m \u001b[0mreduce\u001b[0m\u001b[1;33m(\u001b[0m\u001b[1;32mlambda\u001b[0m \u001b[0ma\u001b[0m\u001b[1;33m,\u001b[0m\u001b[0mb\u001b[0m\u001b[1;33m:\u001b[0m\u001b[0ma\u001b[0m\u001b[1;33m+\u001b[0m\u001b[0mb\u001b[0m\u001b[1;33m,\u001b[0m\u001b[0ml2\u001b[0m\u001b[1;33m)\u001b[0m\u001b[1;33m\u001b[0m\u001b[1;33m\u001b[0m\u001b[0m\n\u001b[0m",
      "\u001b[1;31mTypeError\u001b[0m: reduce() of empty sequence with no initial value"
     ]
    }
   ],
   "source": [
    "l2 = []\n",
    "reduce(lambda a,b:a+b,l2)"
   ]
  },
  {
   "cell_type": "code",
   "execution_count": 68,
   "metadata": {
    "ExecuteTime": {
     "end_time": "2020-02-14T17:21:05.872808Z",
     "start_time": "2020-02-14T17:21:05.864813Z"
    }
   },
   "outputs": [
    {
     "data": {
      "text/plain": [
       "1"
      ]
     },
     "execution_count": 68,
     "metadata": {},
     "output_type": "execute_result"
    }
   ],
   "source": [
    "reduce(lambda a,b:a+b,l2,1)  # <-- this 1 here is n=initializer which is a kind of default value when exception\n",
    "                            # but it also modifies our output"
   ]
  },
  {
   "cell_type": "code",
   "execution_count": 74,
   "metadata": {
    "ExecuteTime": {
     "end_time": "2020-02-14T17:22:37.656913Z",
     "start_time": "2020-02-14T17:22:37.649916Z"
    }
   },
   "outputs": [
    {
     "data": {
      "text/plain": [
       "7"
      ]
     },
     "execution_count": 74,
     "metadata": {},
     "output_type": "execute_result"
    }
   ],
   "source": [
    "# for example\n",
    "l4 = [1,2,3]\n",
    "reduce(lambda a,b:a+b,l4,1)\n",
    "\n",
    "# we can see the ans is 7 which is wrong it has considered initializer= 1 as well.\n",
    "# to restrict this we can use 0 as initilizer"
   ]
  },
  {
   "cell_type": "code",
   "execution_count": 76,
   "metadata": {
    "ExecuteTime": {
     "end_time": "2020-02-14T17:22:47.651902Z",
     "start_time": "2020-02-14T17:22:47.643912Z"
    }
   },
   "outputs": [
    {
     "data": {
      "text/plain": [
       "6"
      ]
     },
     "execution_count": 76,
     "metadata": {},
     "output_type": "execute_result"
    }
   ],
   "source": [
    "reduce(lambda a,b:a+b,l4,0)\n",
    "\n",
    "# Be careful, for multiplication it will make entire product 0.\n",
    "# so for multiplication use initializer = 1"
   ]
  },
  {
   "cell_type": "code",
   "execution_count": null,
   "metadata": {},
   "outputs": [],
   "source": []
  }
 ],
 "metadata": {
  "kernelspec": {
   "display_name": "Python 3",
   "language": "python",
   "name": "python3"
  },
  "language_info": {
   "codemirror_mode": {
    "name": "ipython",
    "version": 3
   },
   "file_extension": ".py",
   "mimetype": "text/x-python",
   "name": "python",
   "nbconvert_exporter": "python",
   "pygments_lexer": "ipython3",
   "version": "3.7.2"
  },
  "toc": {
   "base_numbering": 1,
   "nav_menu": {},
   "number_sections": true,
   "sideBar": true,
   "skip_h1_title": false,
   "title_cell": "Table of Contents",
   "title_sidebar": "Contents",
   "toc_cell": false,
   "toc_position": {},
   "toc_section_display": true,
   "toc_window_display": true
  }
 },
 "nbformat": 4,
 "nbformat_minor": 2
}
