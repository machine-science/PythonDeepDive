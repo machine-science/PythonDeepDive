{
 "cells": [
  {
   "cell_type": "markdown",
   "id": "abff5a35-5481-490b-9244-2b0f781598b4",
   "metadata": {},
   "source": [
    "# Properties"
   ]
  },
  {
   "cell_type": "code",
   "execution_count": 1,
   "id": "efdef1aa-0ff5-4467-9ed6-0867164c2ae9",
   "metadata": {},
   "outputs": [],
   "source": [
    "class Person:\n",
    "    def __init__(self, name):\n",
    "        self.name=name"
   ]
  },
  {
   "cell_type": "code",
   "execution_count": 2,
   "id": "d02a263f-a251-4de9-af19-bfd4f9355a6d",
   "metadata": {},
   "outputs": [],
   "source": [
    "class MyClass:\n",
    "    language = 'Python'\n",
    "    \n",
    "obj = MyClass()"
   ]
  },
  {
   "cell_type": "code",
   "execution_count": 3,
   "id": "b60b8688-89ee-41ba-ba27-6e0f3866cb3b",
   "metadata": {},
   "outputs": [],
   "source": [
    "obj.version = '3.7'"
   ]
  },
  {
   "cell_type": "code",
   "execution_count": 30,
   "id": "df269149-279e-4c09-afe5-72ad71a59a61",
   "metadata": {},
   "outputs": [
    {
     "data": {
      "text/plain": [
       "{'version': '3.7', 'say_hello': <function __main__.<lambda>()>}"
      ]
     },
     "execution_count": 30,
     "metadata": {},
     "output_type": "execute_result"
    }
   ],
   "source": [
    "# The instance dictionary\n",
    "obj.__dict__"
   ]
  },
  {
   "cell_type": "markdown",
   "id": "abb955a8-3364-47ab-986d-be0689176fe4",
   "metadata": {
    "tags": []
   },
   "source": [
    "## What happens if we create a new attribute whose value is function"
   ]
  },
  {
   "cell_type": "code",
   "execution_count": 6,
   "id": "8ee98f82-bddc-44f7-b3f9-2ff389b4d643",
   "metadata": {},
   "outputs": [],
   "source": [
    "obj.say_hello = lambda: \"hello world!!\""
   ]
  },
  {
   "cell_type": "code",
   "execution_count": 8,
   "id": "2a269935-ab67-453d-bf72-d8f858db2fb2",
   "metadata": {},
   "outputs": [
    {
     "data": {
      "text/plain": [
       "<function __main__.<lambda>()>"
      ]
     },
     "execution_count": 8,
     "metadata": {},
     "output_type": "execute_result"
    }
   ],
   "source": [
    "obj.say_hello #this will be a function instead of method"
   ]
  },
  {
   "cell_type": "code",
   "execution_count": 9,
   "id": "9d417de6-b399-467b-af0e-9fd59374bd72",
   "metadata": {},
   "outputs": [],
   "source": [
    "# To get the method the function need to be defined inside the class "
   ]
  },
  {
   "cell_type": "code",
   "execution_count": 24,
   "id": "c09e5a9c-135c-485c-95a8-d95f6bea90b2",
   "metadata": {},
   "outputs": [],
   "source": [
    "class MyClass2:\n",
    "    \n",
    "    def __init__(self, name):\n",
    "        self.name = name\n",
    "        \n",
    "    def say_hello(self):\n",
    "        return f\"Hello {self.name}\""
   ]
  },
  {
   "cell_type": "code",
   "execution_count": 25,
   "id": "c1078a56-9528-4e18-99a1-5a9538b4f113",
   "metadata": {},
   "outputs": [
    {
     "data": {
      "text/plain": [
       "mappingproxy({'__module__': '__main__',\n",
       "              '__init__': <function __main__.MyClass2.__init__(self, name)>,\n",
       "              'say_hello': <function __main__.MyClass2.say_hello(self)>,\n",
       "              '__dict__': <attribute '__dict__' of 'MyClass2' objects>,\n",
       "              '__weakref__': <attribute '__weakref__' of 'MyClass2' objects>,\n",
       "              '__doc__': None})"
      ]
     },
     "execution_count": 25,
     "metadata": {},
     "output_type": "execute_result"
    }
   ],
   "source": [
    "MyClass2.__dict__"
   ]
  },
  {
   "cell_type": "code",
   "execution_count": 26,
   "id": "e56485f0-839d-4024-a295-a6b0bdf2db19",
   "metadata": {},
   "outputs": [],
   "source": [
    "obj2 = MyClass2(\"Omkar\")"
   ]
  },
  {
   "cell_type": "code",
   "execution_count": 29,
   "id": "e334846f-37ff-44e1-ab72-47c4f3fbf08c",
   "metadata": {},
   "outputs": [
    {
     "data": {
      "text/plain": [
       "'Hello Omkar'"
      ]
     },
     "execution_count": 29,
     "metadata": {},
     "output_type": "execute_result"
    }
   ],
   "source": [
    "obj2.say_hello()"
   ]
  },
  {
   "cell_type": "markdown",
   "id": "45bf04b6-b16a-4c24-aed0-d899354b9d5c",
   "metadata": {},
   "source": [
    "## Creating a method for a specific instance n the run"
   ]
  },
  {
   "cell_type": "code",
   "execution_count": 31,
   "id": "3551355a-446e-4fbc-a9e4-46fdaf279041",
   "metadata": {},
   "outputs": [],
   "source": [
    "class MyClass:\n",
    "    language = 'Python'\n",
    "    \n",
    "obj = MyClass()"
   ]
  },
  {
   "cell_type": "code",
   "execution_count": 33,
   "id": "eeb47250-35e3-4884-9c54-c1e0f2af79f9",
   "metadata": {},
   "outputs": [],
   "source": [
    "from types import MethodType\n",
    "\n",
    "# MethodType(function: the function we want to assign , object: the object type)"
   ]
  },
  {
   "cell_type": "code",
   "execution_count": 35,
   "id": "b774097d-e0f1-4780-9aa3-6857db70e98f",
   "metadata": {},
   "outputs": [],
   "source": [
    "obj.say_hello = MethodType(lambda self: f\"Hello {self.language}\", obj)"
   ]
  },
  {
   "cell_type": "code",
   "execution_count": 37,
   "id": "c7fe2504-df91-47c6-af14-3c1ce95acde8",
   "metadata": {},
   "outputs": [
    {
     "data": {
      "text/plain": [
       "'Hello Python'"
      ]
     },
     "execution_count": 37,
     "metadata": {},
     "output_type": "execute_result"
    }
   ],
   "source": [
    "obj.say_hello()"
   ]
  },
  {
   "cell_type": "code",
   "execution_count": 41,
   "id": "0972280c-d920-470f-9c28-e45d83ec1e5a",
   "metadata": {},
   "outputs": [
    {
     "data": {
      "text/plain": [
       "{'say_hello': <bound method <lambda> of <__main__.MyClass object at 0x000001B971B72470>>}"
      ]
     },
     "execution_count": 41,
     "metadata": {},
     "output_type": "execute_result"
    }
   ],
   "source": [
    "obj.__dict__"
   ]
  },
  {
   "cell_type": "code",
   "execution_count": null,
   "id": "8e0d85af-6954-4d86-aed7-27faa4888c09",
   "metadata": {},
   "outputs": [],
   "source": []
  }
 ],
 "metadata": {
  "kernelspec": {
   "display_name": "Python 3 (ipykernel)",
   "language": "python",
   "name": "python3"
  },
  "language_info": {
   "codemirror_mode": {
    "name": "ipython",
    "version": 3
   },
   "file_extension": ".py",
   "mimetype": "text/x-python",
   "name": "python",
   "nbconvert_exporter": "python",
   "pygments_lexer": "ipython3",
   "version": "3.10.5"
  }
 },
 "nbformat": 4,
 "nbformat_minor": 5
}
