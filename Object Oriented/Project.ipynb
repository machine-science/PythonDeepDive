{
 "cells": [
  {
   "cell_type": "markdown",
   "id": "00449a60-c4bd-4ac7-9fd6-47ab1b7b808e",
   "metadata": {},
   "source": [
    "# Project - 1"
   ]
  },
  {
   "cell_type": "markdown",
   "id": "26e32b79-7117-498f-bcf9-43ceff283805",
   "metadata": {},
   "source": [
    "## Time Zone"
   ]
  },
  {
   "cell_type": "code",
   "execution_count": 1,
   "id": "5daf5404-33c4-4375-a54f-a007b2e23679",
   "metadata": {},
   "outputs": [],
   "source": [
    "import numbers\n",
    "from datetime import timedelta"
   ]
  },
  {
   "cell_type": "code",
   "execution_count": null,
   "id": "b3fa1042-787a-4348-8924-405c48b81a42",
   "metadata": {},
   "outputs": [],
   "source": [
    "class TimeZone:\n",
    "    def __init__(self, name, offset_hours, offset_minutes):\n",
    "        if name is None or len(str(name).strip()) = 0:\n",
    "            raise ValueError('Timezone name cannot be empty')"
   ]
  }
 ],
 "metadata": {
  "kernelspec": {
   "display_name": "Python 3 (ipykernel)",
   "language": "python",
   "name": "python3"
  },
  "language_info": {
   "codemirror_mode": {
    "name": "ipython",
    "version": 3
   },
   "file_extension": ".py",
   "mimetype": "text/x-python",
   "name": "python",
   "nbconvert_exporter": "python",
   "pygments_lexer": "ipython3",
   "version": "3.10.5"
  }
 },
 "nbformat": 4,
 "nbformat_minor": 5
}
