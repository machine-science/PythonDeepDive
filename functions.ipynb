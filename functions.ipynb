{
 "cells": [
  {
   "cell_type": "markdown",
   "metadata": {
    "ExecuteTime": {
     "end_time": "2020-02-08T18:40:32.025071Z",
     "start_time": "2020-02-08T18:40:32.017058Z"
    }
   },
   "source": [
    "*Docstring (PEP-257)* : Which tells more about function. <br>\n",
    "If the first line in the function is string (`NOT ASSIGNMENT nor COMMENT`) will be interpreted as docstring.\n",
    "\n",
    "**Where are docstring stored?** <br>\n",
    "- Function is an object, objects have properties, functions have \\_\\_doc\\_\\_ property\n",
    "- help() function essentially looks for \\_\\_doc\\_\\_ property\n",
    "\n",
    "**Function Annotation**\n",
    "- Function annotations give aditional way to document our function and is defined in `PEP 3107`<br>\n",
    "def func(a:$<expression>$, b:$<expression>$) -> $<expression>$:<br>\n",
    "pass <br>\n",
    "- Annotations are stored in \\_\\_annotations\\_\\_ property of function, and it is a `dictionary`"
   ]
  },
  {
   "cell_type": "code",
   "execution_count": 2,
   "metadata": {
    "ExecuteTime": {
     "end_time": "2020-02-09T03:54:11.806278Z",
     "start_time": "2020-02-09T03:54:11.801277Z"
    }
   },
   "outputs": [],
   "source": [
    "# Function Annotation\n",
    "\n",
    "def func(a:\"a string\", b:\"a positive int\") -> \"a string\":\n",
    "    return a*b"
   ]
  },
  {
   "cell_type": "code",
   "execution_count": 3,
   "metadata": {
    "ExecuteTime": {
     "end_time": "2020-02-09T03:54:17.102198Z",
     "start_time": "2020-02-09T03:54:17.093206Z"
    }
   },
   "outputs": [
    {
     "name": "stdout",
     "output_type": "stream",
     "text": [
      "Help on function func in module __main__:\n",
      "\n",
      "func(a: 'a string', b: 'a positive int') -> 'a string'\n",
      "\n"
     ]
    }
   ],
   "source": [
    "help(func)"
   ]
  },
  {
   "cell_type": "code",
   "execution_count": 5,
   "metadata": {
    "ExecuteTime": {
     "end_time": "2020-02-09T03:54:46.708659Z",
     "start_time": "2020-02-09T03:54:46.704660Z"
    }
   },
   "outputs": [],
   "source": [
    "# func.__doc__"
   ]
  },
  {
   "cell_type": "code",
   "execution_count": 12,
   "metadata": {
    "ExecuteTime": {
     "end_time": "2020-02-09T05:47:32.481105Z",
     "start_time": "2020-02-09T05:47:32.476108Z"
    }
   },
   "outputs": [],
   "source": [
    "x = 5\n",
    "y = 3\n",
    "def rep_max(a, b=max(x,y)):\n",
    "    print(b)\n",
    "    print(max(x,y))\n",
    "    return a*max(x,y)"
   ]
  },
  {
   "cell_type": "code",
   "execution_count": 13,
   "metadata": {
    "ExecuteTime": {
     "end_time": "2020-02-09T05:47:32.889872Z",
     "start_time": "2020-02-09T05:47:32.882876Z"
    }
   },
   "outputs": [
    {
     "name": "stdout",
     "output_type": "stream",
     "text": [
      "5\n",
      "5\n"
     ]
    },
    {
     "data": {
      "text/plain": [
       "'vvvvv'"
      ]
     },
     "execution_count": 13,
     "metadata": {},
     "output_type": "execute_result"
    }
   ],
   "source": [
    "rep_max('v')"
   ]
  },
  {
   "cell_type": "code",
   "execution_count": 14,
   "metadata": {
    "ExecuteTime": {
     "end_time": "2020-02-09T05:47:33.784685Z",
     "start_time": "2020-02-09T05:47:33.778687Z"
    }
   },
   "outputs": [
    {
     "name": "stdout",
     "output_type": "stream",
     "text": [
      "5\n",
      "10\n"
     ]
    },
    {
     "data": {
      "text/plain": [
       "'bbbbbbbbbb'"
      ]
     },
     "execution_count": 14,
     "metadata": {},
     "output_type": "execute_result"
    }
   ],
   "source": [
    "x = 10\n",
    "rep_max('b')"
   ]
  },
  {
   "cell_type": "markdown",
   "metadata": {},
   "source": [
    "# Lambda Expression"
   ]
  },
  {
   "cell_type": "code",
   "execution_count": 15,
   "metadata": {
    "ExecuteTime": {
     "end_time": "2020-02-09T08:47:26.435087Z",
     "start_time": "2020-02-09T08:47:26.417097Z"
    }
   },
   "outputs": [
    {
     "data": {
      "text/plain": [
       "25"
      ]
     },
     "execution_count": 15,
     "metadata": {},
     "output_type": "execute_result"
    }
   ],
   "source": [
    "sqr = lambda x : x**2 \n",
    "sqr(5)"
   ]
  },
  {
   "cell_type": "code",
   "execution_count": 51,
   "metadata": {
    "ExecuteTime": {
     "end_time": "2020-02-09T11:47:30.880044Z",
     "start_time": "2020-02-09T11:47:30.875046Z"
    }
   },
   "outputs": [],
   "source": [
    "def apply_func(fn, *args, **kwargs):\n",
    "    print(*args)\n",
    "    print(kwargs)\n",
    "    return fn(*args, **kwargs)"
   ]
  },
  {
   "cell_type": "code",
   "execution_count": 52,
   "metadata": {
    "ExecuteTime": {
     "end_time": "2020-02-09T11:47:31.425715Z",
     "start_time": "2020-02-09T11:47:31.418718Z"
    }
   },
   "outputs": [
    {
     "name": "stdout",
     "output_type": "stream",
     "text": [
      "1 2 3 4 5\n",
      "{}\n"
     ]
    },
    {
     "data": {
      "text/plain": [
       "15"
      ]
     },
     "execution_count": 52,
     "metadata": {},
     "output_type": "execute_result"
    }
   ],
   "source": [
    "y = 20\n",
    "apply_func(lambda *args: sum(args), 1,2,3,4,5)"
   ]
  },
  {
   "cell_type": "code",
   "execution_count": 53,
   "metadata": {
    "ExecuteTime": {
     "end_time": "2020-02-09T11:47:31.843798Z",
     "start_time": "2020-02-09T11:47:31.835807Z"
    }
   },
   "outputs": [
    {
     "name": "stdout",
     "output_type": "stream",
     "text": [
      "1 20\n",
      "{}\n"
     ]
    },
    {
     "data": {
      "text/plain": [
       "21"
      ]
     },
     "execution_count": 53,
     "metadata": {},
     "output_type": "execute_result"
    }
   ],
   "source": [
    "apply_func(lambda x , y: x+y, 1,20)"
   ]
  },
  {
   "cell_type": "code",
   "execution_count": 54,
   "metadata": {
    "ExecuteTime": {
     "end_time": "2020-02-09T11:47:32.332285Z",
     "start_time": "2020-02-09T11:47:32.326288Z"
    }
   },
   "outputs": [
    {
     "name": "stdout",
     "output_type": "stream",
     "text": [
      "1\n",
      "{'y': 10}\n"
     ]
    },
    {
     "data": {
      "text/plain": [
       "11"
      ]
     },
     "execution_count": 54,
     "metadata": {},
     "output_type": "execute_result"
    }
   ],
   "source": [
    "apply_func(lambda x,*,y : x+y,1,y=10)"
   ]
  },
  {
   "cell_type": "code",
   "execution_count": 57,
   "metadata": {
    "ExecuteTime": {
     "end_time": "2020-02-09T11:50:12.137149Z",
     "start_time": "2020-02-09T11:50:12.129153Z"
    }
   },
   "outputs": [
    {
     "name": "stdout",
     "output_type": "stream",
     "text": [
      "1 2 3 4\n",
      "{}\n"
     ]
    },
    {
     "data": {
      "text/plain": [
       "10"
      ]
     },
     "execution_count": 57,
     "metadata": {},
     "output_type": "execute_result"
    }
   ],
   "source": [
    "apply_func(lambda *args : sum(args), 1,2,3,4)"
   ]
  },
  {
   "cell_type": "markdown",
   "metadata": {},
   "source": [
    "## Sorting "
   ]
  },
  {
   "cell_type": "code",
   "execution_count": 59,
   "metadata": {
    "ExecuteTime": {
     "end_time": "2020-02-09T12:00:37.529338Z",
     "start_time": "2020-02-09T12:00:37.523343Z"
    }
   },
   "outputs": [
    {
     "data": {
      "text/plain": [
       "['C', 'D', 'a', 'b']"
      ]
     },
     "execution_count": 59,
     "metadata": {},
     "output_type": "execute_result"
    }
   ],
   "source": [
    "s = ['a','b','C','D']\n",
    "sorted(s)\n",
    "# The elements will be sorted based on their ord number"
   ]
  },
  {
   "cell_type": "code",
   "execution_count": 60,
   "metadata": {
    "ExecuteTime": {
     "end_time": "2020-02-09T12:00:42.996394Z",
     "start_time": "2020-02-09T12:00:42.992397Z"
    }
   },
   "outputs": [
    {
     "data": {
      "text/plain": [
       "97"
      ]
     },
     "execution_count": 60,
     "metadata": {},
     "output_type": "execute_result"
    }
   ],
   "source": [
    "ord('a')"
   ]
  },
  {
   "cell_type": "code",
   "execution_count": 61,
   "metadata": {
    "ExecuteTime": {
     "end_time": "2020-02-09T12:00:50.974821Z",
     "start_time": "2020-02-09T12:00:50.968826Z"
    }
   },
   "outputs": [
    {
     "name": "stdout",
     "output_type": "stream",
     "text": [
      "67\n"
     ]
    }
   ],
   "source": [
    "print(ord('C'))"
   ]
  },
  {
   "cell_type": "markdown",
   "metadata": {},
   "source": [
    "capital letters and lower case letters have different `ord` number <br>\n",
    "You can make this case insensitive sord by using **key parameter**"
   ]
  },
  {
   "cell_type": "code",
   "execution_count": 65,
   "metadata": {
    "ExecuteTime": {
     "end_time": "2020-02-09T12:03:32.320703Z",
     "start_time": "2020-02-09T12:03:32.312689Z"
    }
   },
   "outputs": [
    {
     "data": {
      "text/plain": [
       "['a', 'b', 'C', 'D']"
      ]
     },
     "execution_count": 65,
     "metadata": {},
     "output_type": "execute_result"
    }
   ],
   "source": [
    "sorted(s, key=lambda x: x.upper()) #Now you will get proper sorting"
   ]
  },
  {
   "cell_type": "markdown",
   "metadata": {},
   "source": [
    "## Sort dictionary based on keys:"
   ]
  },
  {
   "cell_type": "code",
   "execution_count": 66,
   "metadata": {
    "ExecuteTime": {
     "end_time": "2020-02-09T12:05:00.445509Z",
     "start_time": "2020-02-09T12:05:00.437507Z"
    }
   },
   "outputs": [
    {
     "data": {
      "text/plain": [
       "{'def': 200, 'abc': 300, 'ghi': 100}"
      ]
     },
     "execution_count": 66,
     "metadata": {},
     "output_type": "execute_result"
    }
   ],
   "source": [
    "d = {'def':200, 'abc':300, 'ghi':100}\n",
    "d"
   ]
  },
  {
   "cell_type": "code",
   "execution_count": 67,
   "metadata": {
    "ExecuteTime": {
     "end_time": "2020-02-09T12:05:17.247150Z",
     "start_time": "2020-02-09T12:05:17.241174Z"
    }
   },
   "outputs": [
    {
     "name": "stdout",
     "output_type": "stream",
     "text": [
      "def\n",
      "abc\n",
      "ghi\n"
     ]
    }
   ],
   "source": [
    "for e in d:\n",
    "    print(e)"
   ]
  },
  {
   "cell_type": "code",
   "execution_count": 69,
   "metadata": {
    "ExecuteTime": {
     "end_time": "2020-02-09T12:06:09.701621Z",
     "start_time": "2020-02-09T12:06:09.694630Z"
    }
   },
   "outputs": [
    {
     "data": {
      "text/plain": [
       "['abc', 'def', 'ghi']"
      ]
     },
     "execution_count": 69,
     "metadata": {},
     "output_type": "execute_result"
    }
   ],
   "source": [
    "sorted(d) # By using regular sort funcrion"
   ]
  },
  {
   "cell_type": "code",
   "execution_count": 70,
   "metadata": {
    "ExecuteTime": {
     "end_time": "2020-02-09T12:06:20.484779Z",
     "start_time": "2020-02-09T12:06:20.478782Z"
    }
   },
   "outputs": [
    {
     "data": {
      "text/plain": [
       "['abc', 'def', 'ghi']"
      ]
     },
     "execution_count": 70,
     "metadata": {},
     "output_type": "execute_result"
    }
   ],
   "source": [
    "sorted()"
   ]
  },
  {
   "cell_type": "code",
   "execution_count": 73,
   "metadata": {
    "ExecuteTime": {
     "end_time": "2020-02-09T14:04:33.851710Z",
     "start_time": "2020-02-09T14:04:33.844715Z"
    }
   },
   "outputs": [
    {
     "data": {
      "text/plain": [
       "['ghi', 'def', 'abc']"
      ]
     },
     "execution_count": 73,
     "metadata": {},
     "output_type": "execute_result"
    }
   ],
   "source": [
    "sorted(d, key = lambda e:d[e])"
   ]
  },
  {
   "cell_type": "code",
   "execution_count": 74,
   "metadata": {
    "ExecuteTime": {
     "end_time": "2020-02-09T14:05:22.565125Z",
     "start_time": "2020-02-09T14:05:22.560128Z"
    }
   },
   "outputs": [],
   "source": [
    "def dist_sq(x):\n",
    "    return (x.real)**2 + (x.imag)**2"
   ]
  },
  {
   "cell_type": "code",
   "execution_count": 75,
   "metadata": {
    "ExecuteTime": {
     "end_time": "2020-02-09T14:06:42.252750Z",
     "start_time": "2020-02-09T14:06:42.194764Z"
    }
   },
   "outputs": [
    {
     "ename": "TypeError",
     "evalue": "'<' not supported between instances of 'complex' and 'complex'",
     "output_type": "error",
     "traceback": [
      "\u001b[1;31m---------------------------------------------------------------------------\u001b[0m",
      "\u001b[1;31mTypeError\u001b[0m                                 Traceback (most recent call last)",
      "\u001b[1;32m<ipython-input-75-e9d9dd7036c2>\u001b[0m in \u001b[0;36m<module>\u001b[1;34m\u001b[0m\n\u001b[0;32m      1\u001b[0m \u001b[0ml\u001b[0m \u001b[1;33m=\u001b[0m \u001b[1;33m[\u001b[0m\u001b[1;36m3\u001b[0m\u001b[1;33m+\u001b[0m\u001b[1;36m3j\u001b[0m\u001b[1;33m,\u001b[0m \u001b[1;36m1\u001b[0m\u001b[1;33m-\u001b[0m\u001b[1;36m1j\u001b[0m\u001b[1;33m,\u001b[0m \u001b[1;36m0\u001b[0m \u001b[1;33m,\u001b[0m \u001b[1;36m3\u001b[0m\u001b[1;33m+\u001b[0m\u001b[1;36m0j\u001b[0m\u001b[1;33m]\u001b[0m\u001b[1;33m\u001b[0m\u001b[1;33m\u001b[0m\u001b[0m\n\u001b[1;32m----> 2\u001b[1;33m \u001b[0msorted\u001b[0m\u001b[1;33m(\u001b[0m\u001b[0ml\u001b[0m\u001b[1;33m)\u001b[0m\u001b[1;33m\u001b[0m\u001b[1;33m\u001b[0m\u001b[0m\n\u001b[0m",
      "\u001b[1;31mTypeError\u001b[0m: '<' not supported between instances of 'complex' and 'complex'"
     ]
    }
   ],
   "source": [
    "l = [3+3j, 1-1j, 0 , 3+0j]\n",
    "sorted(l) # There is no built in support for sortign complex numbers in python"
   ]
  },
  {
   "cell_type": "code",
   "execution_count": 76,
   "metadata": {
    "ExecuteTime": {
     "end_time": "2020-02-09T14:07:46.797918Z",
     "start_time": "2020-02-09T14:07:46.792919Z"
    }
   },
   "outputs": [
    {
     "data": {
      "text/plain": [
       "[0, (1-1j), (3+0j), (3+3j)]"
      ]
     },
     "execution_count": 76,
     "metadata": {},
     "output_type": "execute_result"
    }
   ],
   "source": [
    "# To sort complex numbers\n",
    "sorted(l, key=dist_sq)"
   ]
  },
  {
   "cell_type": "code",
   "execution_count": 77,
   "metadata": {
    "ExecuteTime": {
     "end_time": "2020-02-09T14:08:32.104770Z",
     "start_time": "2020-02-09T14:08:32.097774Z"
    }
   },
   "outputs": [
    {
     "data": {
      "text/plain": [
       "[0, (1-1j), (3+0j), (3+3j)]"
      ]
     },
     "execution_count": 77,
     "metadata": {},
     "output_type": "execute_result"
    }
   ],
   "source": [
    "# or\n",
    "sorted(l, key=lambda x:(x.real)**2 + (x.imag)**2)"
   ]
  },
  {
   "cell_type": "code",
   "execution_count": 78,
   "metadata": {
    "ExecuteTime": {
     "end_time": "2020-02-09T14:10:12.092864Z",
     "start_time": "2020-02-09T14:10:12.087888Z"
    }
   },
   "outputs": [],
   "source": [
    "# Now if you want to sort the list based on the last letter of the list elements\n",
    "li = ['Cleese', 'Idle', 'Palin','Chapman', 'Gilliam', 'Jones']"
   ]
  },
  {
   "cell_type": "code",
   "execution_count": 80,
   "metadata": {
    "ExecuteTime": {
     "end_time": "2020-02-09T14:10:59.730196Z",
     "start_time": "2020-02-09T14:10:59.724200Z"
    }
   },
   "outputs": [
    {
     "data": {
      "text/plain": [
       "['Cleese', 'Idle', 'Gilliam', 'Palin', 'Chapman', 'Jones']"
      ]
     },
     "execution_count": 80,
     "metadata": {},
     "output_type": "execute_result"
    }
   ],
   "source": [
    "sorted(li, key = lambda x:x[-1])"
   ]
  },
  {
   "cell_type": "markdown",
   "metadata": {},
   "source": [
    "**We can see that in first two elements there is a clash of last letter of list elements and in 'Palin', 'Chapman' case also, there is a clash, but we do not know which another elements has been considered for referense**\n",
    "\n",
    "**In Python that is called `stable sort` meaning if there is a clash, it will retain the order in which they appear in the main list**\n",
    "\n",
    "**Since 'Cleese' is before 'Idle', it retains the same order and same with 'Palin' and 'Chapman'**"
   ]
  },
  {
   "cell_type": "markdown",
   "metadata": {},
   "source": [
    "# Function Introspection"
   ]
  },
  {
   "cell_type": "code",
   "execution_count": 86,
   "metadata": {
    "ExecuteTime": {
     "end_time": "2020-02-12T16:38:44.159663Z",
     "start_time": "2020-02-12T16:38:44.153666Z"
    }
   },
   "outputs": [],
   "source": [
    "#  Here we have added annotations and docstring\n",
    "def myFunc(a: \"mandatory positional\",\n",
    "           b: \"optional positional\" = 1, \n",
    "           c=2, \n",
    "           *args: \"Extra positionals here\", \n",
    "           kw1, \n",
    "           kw2=100, \n",
    "           kw3=200, \n",
    "           **kwargs: \"Provide extra keyword only here\") -> \"Does nothing\":\n",
    "    \"\"\"\n",
    "    This function does nothing but has various params and annotations.\n",
    "    \"\"\"\n",
    "    i = 10\n",
    "    j = 20"
   ]
  },
  {
   "cell_type": "code",
   "execution_count": 87,
   "metadata": {
    "ExecuteTime": {
     "end_time": "2020-02-12T16:38:44.326737Z",
     "start_time": "2020-02-12T16:38:44.223628Z"
    }
   },
   "outputs": [
    {
     "data": {
      "text/plain": [
       "'\\n    This function does nothing but has various params and annotations.\\n    '"
      ]
     },
     "execution_count": 87,
     "metadata": {},
     "output_type": "execute_result"
    }
   ],
   "source": [
    "myFunc.__doc__"
   ]
  },
  {
   "cell_type": "code",
   "execution_count": 88,
   "metadata": {
    "ExecuteTime": {
     "end_time": "2020-02-12T16:38:44.752425Z",
     "start_time": "2020-02-12T16:38:44.506943Z"
    }
   },
   "outputs": [
    {
     "data": {
      "text/plain": [
       "{'a': 'mandatory positional',\n",
       " 'b': 'optional positional',\n",
       " 'args': 'Extra positionals here',\n",
       " 'kwargs': 'Provide extra keyword only here',\n",
       " 'return': 'Does nothing'}"
      ]
     },
     "execution_count": 88,
     "metadata": {},
     "output_type": "execute_result"
    }
   ],
   "source": [
    "myFunc.__annotations__"
   ]
  },
  {
   "cell_type": "markdown",
   "metadata": {},
   "source": [
    "**`MyFunc` is just an object. Which means objects have attributes and we can add attributes to objects very easily.**\n",
    "\n",
    "**For example**"
   ]
  },
  {
   "cell_type": "code",
   "execution_count": 89,
   "metadata": {
    "ExecuteTime": {
     "end_time": "2020-02-12T16:41:13.364130Z",
     "start_time": "2020-02-12T16:41:13.070927Z"
    }
   },
   "outputs": [],
   "source": [
    "myFunc.short_descriptions = \"This function does nothing much\""
   ]
  },
  {
   "cell_type": "code",
   "execution_count": 90,
   "metadata": {
    "ExecuteTime": {
     "end_time": "2020-02-12T16:41:26.724504Z",
     "start_time": "2020-02-12T16:41:26.719508Z"
    }
   },
   "outputs": [
    {
     "data": {
      "text/plain": [
       "'This function does nothing much'"
      ]
     },
     "execution_count": 90,
     "metadata": {},
     "output_type": "execute_result"
    }
   ],
   "source": [
    "myFunc.short_descriptions"
   ]
  },
  {
   "cell_type": "markdown",
   "metadata": {},
   "source": [
    "**We can look at all the attribute that are available to this function**"
   ]
  },
  {
   "cell_type": "code",
   "execution_count": 91,
   "metadata": {
    "ExecuteTime": {
     "end_time": "2020-02-12T16:42:15.589787Z",
     "start_time": "2020-02-12T16:42:15.582793Z"
    }
   },
   "outputs": [
    {
     "data": {
      "text/plain": [
       "['__annotations__',\n",
       " '__call__',\n",
       " '__class__',\n",
       " '__closure__',\n",
       " '__code__',\n",
       " '__defaults__',\n",
       " '__delattr__',\n",
       " '__dict__',\n",
       " '__dir__',\n",
       " '__doc__',\n",
       " '__eq__',\n",
       " '__format__',\n",
       " '__ge__',\n",
       " '__get__',\n",
       " '__getattribute__',\n",
       " '__globals__',\n",
       " '__gt__',\n",
       " '__hash__',\n",
       " '__init__',\n",
       " '__init_subclass__',\n",
       " '__kwdefaults__',\n",
       " '__le__',\n",
       " '__lt__',\n",
       " '__module__',\n",
       " '__name__',\n",
       " '__ne__',\n",
       " '__new__',\n",
       " '__qualname__',\n",
       " '__reduce__',\n",
       " '__reduce_ex__',\n",
       " '__repr__',\n",
       " '__setattr__',\n",
       " '__sizeof__',\n",
       " '__str__',\n",
       " '__subclasshook__',\n",
       " 'short_descriptions']"
      ]
     },
     "execution_count": 91,
     "metadata": {},
     "output_type": "execute_result"
    }
   ],
   "source": [
    "dir(myFunc)"
   ]
  },
  {
   "cell_type": "code",
   "execution_count": 92,
   "metadata": {
    "ExecuteTime": {
     "end_time": "2020-02-12T17:09:43.848893Z",
     "start_time": "2020-02-12T17:09:43.779932Z"
    }
   },
   "outputs": [],
   "source": [
    "class OneClass():\n",
    "    def doSomething(self, lol):\n",
    "        print(lol)"
   ]
  },
  {
   "cell_type": "code",
   "execution_count": 96,
   "metadata": {
    "ExecuteTime": {
     "end_time": "2020-02-12T17:10:51.561080Z",
     "start_time": "2020-02-12T17:10:51.554084Z"
    }
   },
   "outputs": [
    {
     "name": "stdout",
     "output_type": "stream",
     "text": [
      "I am Python\n"
     ]
    }
   ],
   "source": [
    "OneClass.doSomething(OneClass, \"I am Python\")"
   ]
  },
  {
   "cell_type": "code",
   "execution_count": 98,
   "metadata": {
    "ExecuteTime": {
     "end_time": "2020-02-12T17:11:49.182239Z",
     "start_time": "2020-02-12T17:11:49.177245Z"
    }
   },
   "outputs": [
    {
     "name": "stdout",
     "output_type": "stream",
     "text": [
      "I am python\n"
     ]
    }
   ],
   "source": [
    "instance = OneClass()\n",
    "instance.doSomething(\"I am python\")"
   ]
  },
  {
   "cell_type": "code",
   "execution_count": null,
   "metadata": {},
   "outputs": [],
   "source": []
  }
 ],
 "metadata": {
  "kernelspec": {
   "display_name": "Python 3",
   "language": "python",
   "name": "python3"
  },
  "language_info": {
   "codemirror_mode": {
    "name": "ipython",
    "version": 3
   },
   "file_extension": ".py",
   "mimetype": "text/x-python",
   "name": "python",
   "nbconvert_exporter": "python",
   "pygments_lexer": "ipython3",
   "version": "3.7.2"
  },
  "toc": {
   "base_numbering": 1,
   "nav_menu": {},
   "number_sections": true,
   "sideBar": true,
   "skip_h1_title": false,
   "title_cell": "Table of Contents",
   "title_sidebar": "Contents",
   "toc_cell": false,
   "toc_position": {},
   "toc_section_display": true,
   "toc_window_display": true
  }
 },
 "nbformat": 4,
 "nbformat_minor": 2
}
